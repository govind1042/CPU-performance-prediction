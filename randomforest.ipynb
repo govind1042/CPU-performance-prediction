{
 "cells": [
  {
   "cell_type": "markdown",
   "id": "naval-residence",
   "metadata": {},
   "source": [
    "<ul>\n",
    "    <li>import required libraries</li>\n",
    "    <li>import required modules</li>\n",
    "    <li>import dataset</li>\n",
    "    <li>take care of missing values</li>\n",
    "    <li>apply EDA on the dataset</li>\n",
    "    <li>take care of categorical and continuous columns and divide them in training and validation set</li>\n",
    "    <li>Linear Regression</li>\n",
    "        <ul><li>finding out collinerity</li></ul>\n",
    "    <li>Polynomial Regression</li>\n",
    "    <li>Random Forest</li>\n",
    "        <ul>\n",
    "        <li>Removing Collinearity using clustering and dendo graph</li>\n",
    "        <li>Hyperparameter tuning of the model</li>\n",
    "        <li>plot of RMSE on train and validation data</li>\n",
    "        <li>Reducing OVERFITTING</li>\n",
    "        </ul>\n",
    "    <li>Find out more plots</li>\n",
    "    <li>Interpret the model and result using treeinterpretor and waterfall diagram</li>\n",
    "    <li>upload on GitHub</li>\n",
    "</ul>"
   ]
  },
  {
   "cell_type": "markdown",
   "id": "incorporated-iceland",
   "metadata": {},
   "source": [
    "## Importing Libraries"
   ]
  },
  {
   "cell_type": "code",
   "execution_count": 76,
   "id": "sunset-popularity",
   "metadata": {},
   "outputs": [],
   "source": [
    "import fastai\n",
    "from fastai import *\n",
    "from fastai.tabular.all import *\n",
    "import numpy as np\n",
    "import pandas as pd\n",
    "import matplotlib.pyplot as plt\n",
    "import seaborn as sns\n",
    "from sklearn.ensemble import RandomForestRegressor\n",
    "from sklearn.metrics import r2_score,mean_squared_error"
   ]
  },
  {
   "cell_type": "markdown",
   "id": "flush-spain",
   "metadata": {},
   "source": [
    "### Defining some functions"
   ]
  },
  {
   "cell_type": "code",
   "execution_count": 77,
   "id": "removable-thumb",
   "metadata": {},
   "outputs": [],
   "source": [
    "def r_mse(pred,y): return round(math.sqrt(((pred-y)**2).mean()), 6)\n",
    "def m_rmse(m, x, y): return r_mse(m.predict(x), y)"
   ]
  },
  {
   "cell_type": "markdown",
   "id": "working-strand",
   "metadata": {},
   "source": [
    "## Importing Dataset"
   ]
  },
  {
   "cell_type": "code",
   "execution_count": 78,
   "id": "executed-proxy",
   "metadata": {
    "scrolled": true
   },
   "outputs": [
    {
     "data": {
      "text/html": [
       "<div>\n",
       "<style scoped>\n",
       "    .dataframe tbody tr th:only-of-type {\n",
       "        vertical-align: middle;\n",
       "    }\n",
       "\n",
       "    .dataframe tbody tr th {\n",
       "        vertical-align: top;\n",
       "    }\n",
       "\n",
       "    .dataframe thead th {\n",
       "        text-align: right;\n",
       "    }\n",
       "</style>\n",
       "<table border=\"1\" class=\"dataframe\">\n",
       "  <thead>\n",
       "    <tr style=\"text-align: right;\">\n",
       "      <th></th>\n",
       "      <th>vendor name</th>\n",
       "      <th>Model Name</th>\n",
       "      <th>MYCT</th>\n",
       "      <th>MMIN</th>\n",
       "      <th>MMAX</th>\n",
       "      <th>CACH</th>\n",
       "      <th>CHMIN</th>\n",
       "      <th>CHMAX</th>\n",
       "      <th>PRP</th>\n",
       "      <th>ERP</th>\n",
       "    </tr>\n",
       "  </thead>\n",
       "  <tbody>\n",
       "    <tr>\n",
       "      <th>0</th>\n",
       "      <td>adviser</td>\n",
       "      <td>32/60</td>\n",
       "      <td>125</td>\n",
       "      <td>256</td>\n",
       "      <td>6000</td>\n",
       "      <td>256</td>\n",
       "      <td>16</td>\n",
       "      <td>128</td>\n",
       "      <td>198</td>\n",
       "      <td>199</td>\n",
       "    </tr>\n",
       "    <tr>\n",
       "      <th>1</th>\n",
       "      <td>amdahl</td>\n",
       "      <td>470v/7</td>\n",
       "      <td>29</td>\n",
       "      <td>8000</td>\n",
       "      <td>32000</td>\n",
       "      <td>32</td>\n",
       "      <td>8</td>\n",
       "      <td>32</td>\n",
       "      <td>269</td>\n",
       "      <td>253</td>\n",
       "    </tr>\n",
       "    <tr>\n",
       "      <th>2</th>\n",
       "      <td>amdahl</td>\n",
       "      <td>470v/7a</td>\n",
       "      <td>29</td>\n",
       "      <td>8000</td>\n",
       "      <td>32000</td>\n",
       "      <td>32</td>\n",
       "      <td>8</td>\n",
       "      <td>32</td>\n",
       "      <td>220</td>\n",
       "      <td>253</td>\n",
       "    </tr>\n",
       "    <tr>\n",
       "      <th>3</th>\n",
       "      <td>amdahl</td>\n",
       "      <td>470v/7b</td>\n",
       "      <td>29</td>\n",
       "      <td>8000</td>\n",
       "      <td>32000</td>\n",
       "      <td>32</td>\n",
       "      <td>8</td>\n",
       "      <td>32</td>\n",
       "      <td>172</td>\n",
       "      <td>253</td>\n",
       "    </tr>\n",
       "    <tr>\n",
       "      <th>4</th>\n",
       "      <td>amdahl</td>\n",
       "      <td>470v/7c</td>\n",
       "      <td>29</td>\n",
       "      <td>8000</td>\n",
       "      <td>16000</td>\n",
       "      <td>32</td>\n",
       "      <td>8</td>\n",
       "      <td>16</td>\n",
       "      <td>132</td>\n",
       "      <td>132</td>\n",
       "    </tr>\n",
       "    <tr>\n",
       "      <th>...</th>\n",
       "      <td>...</td>\n",
       "      <td>...</td>\n",
       "      <td>...</td>\n",
       "      <td>...</td>\n",
       "      <td>...</td>\n",
       "      <td>...</td>\n",
       "      <td>...</td>\n",
       "      <td>...</td>\n",
       "      <td>...</td>\n",
       "      <td>...</td>\n",
       "    </tr>\n",
       "    <tr>\n",
       "      <th>204</th>\n",
       "      <td>sperry</td>\n",
       "      <td>80/8</td>\n",
       "      <td>124</td>\n",
       "      <td>1000</td>\n",
       "      <td>8000</td>\n",
       "      <td>0</td>\n",
       "      <td>1</td>\n",
       "      <td>8</td>\n",
       "      <td>42</td>\n",
       "      <td>37</td>\n",
       "    </tr>\n",
       "    <tr>\n",
       "      <th>205</th>\n",
       "      <td>sperry</td>\n",
       "      <td>90/80-model-3</td>\n",
       "      <td>98</td>\n",
       "      <td>1000</td>\n",
       "      <td>8000</td>\n",
       "      <td>32</td>\n",
       "      <td>2</td>\n",
       "      <td>8</td>\n",
       "      <td>46</td>\n",
       "      <td>50</td>\n",
       "    </tr>\n",
       "    <tr>\n",
       "      <th>206</th>\n",
       "      <td>sratus</td>\n",
       "      <td>32</td>\n",
       "      <td>125</td>\n",
       "      <td>2000</td>\n",
       "      <td>8000</td>\n",
       "      <td>0</td>\n",
       "      <td>2</td>\n",
       "      <td>14</td>\n",
       "      <td>52</td>\n",
       "      <td>41</td>\n",
       "    </tr>\n",
       "    <tr>\n",
       "      <th>207</th>\n",
       "      <td>wang</td>\n",
       "      <td>vs-100</td>\n",
       "      <td>480</td>\n",
       "      <td>512</td>\n",
       "      <td>8000</td>\n",
       "      <td>32</td>\n",
       "      <td>0</td>\n",
       "      <td>0</td>\n",
       "      <td>67</td>\n",
       "      <td>47</td>\n",
       "    </tr>\n",
       "    <tr>\n",
       "      <th>208</th>\n",
       "      <td>wang</td>\n",
       "      <td>vs-90</td>\n",
       "      <td>480</td>\n",
       "      <td>1000</td>\n",
       "      <td>4000</td>\n",
       "      <td>0</td>\n",
       "      <td>0</td>\n",
       "      <td>0</td>\n",
       "      <td>45</td>\n",
       "      <td>25</td>\n",
       "    </tr>\n",
       "  </tbody>\n",
       "</table>\n",
       "<p>209 rows × 10 columns</p>\n",
       "</div>"
      ],
      "text/plain": [
       "    vendor name     Model Name  MYCT  MMIN   MMAX  CACH  CHMIN  CHMAX  PRP  \\\n",
       "0       adviser          32/60   125   256   6000   256     16    128  198   \n",
       "1        amdahl         470v/7    29  8000  32000    32      8     32  269   \n",
       "2        amdahl        470v/7a    29  8000  32000    32      8     32  220   \n",
       "3        amdahl        470v/7b    29  8000  32000    32      8     32  172   \n",
       "4        amdahl        470v/7c    29  8000  16000    32      8     16  132   \n",
       "..          ...            ...   ...   ...    ...   ...    ...    ...  ...   \n",
       "204      sperry           80/8   124  1000   8000     0      1      8   42   \n",
       "205      sperry  90/80-model-3    98  1000   8000    32      2      8   46   \n",
       "206      sratus             32   125  2000   8000     0      2     14   52   \n",
       "207        wang         vs-100   480   512   8000    32      0      0   67   \n",
       "208        wang          vs-90   480  1000   4000     0      0      0   45   \n",
       "\n",
       "     ERP  \n",
       "0    199  \n",
       "1    253  \n",
       "2    253  \n",
       "3    253  \n",
       "4    132  \n",
       "..   ...  \n",
       "204   37  \n",
       "205   50  \n",
       "206   41  \n",
       "207   47  \n",
       "208   25  \n",
       "\n",
       "[209 rows x 10 columns]"
      ]
     },
     "execution_count": 78,
     "metadata": {},
     "output_type": "execute_result"
    }
   ],
   "source": [
    "path=\"C:/Users/1042g/Desktop/ML foundation  CA2/data/machine data.csv\"\n",
    "df_raw=pd.read_csv(path,header=None,low_memory=False)\n",
    "df_raw.columns=[\"vendor name\",\"Model Name\",\"MYCT\",\"MMIN\",\"MMAX\",\"CACH\",\"CHMIN\",\n",
    "                                 \"CHMAX\",\"PRP\",\"ERP\"]\n",
    "df_original=df_raw.copy()\n",
    "df_raw"
   ]
  },
  {
   "cell_type": "markdown",
   "id": "modified-spider",
   "metadata": {},
   "source": [
    "## Taking care of missing values"
   ]
  },
  {
   "cell_type": "code",
   "execution_count": 79,
   "id": "expected-detection",
   "metadata": {},
   "outputs": [
    {
     "data": {
      "text/plain": [
       "vendor name    0\n",
       "Model Name     0\n",
       "MYCT           0\n",
       "MMIN           0\n",
       "MMAX           0\n",
       "CACH           0\n",
       "CHMIN          0\n",
       "CHMAX          0\n",
       "PRP            0\n",
       "ERP            0\n",
       "dtype: int64"
      ]
     },
     "execution_count": 79,
     "metadata": {},
     "output_type": "execute_result"
    }
   ],
   "source": [
    "df_raw.isna().sum()"
   ]
  },
  {
   "cell_type": "markdown",
   "id": "adolescent-crowd",
   "metadata": {},
   "source": [
    "## Original Dataset prediction performance"
   ]
  },
  {
   "cell_type": "code",
   "execution_count": 80,
   "id": "prostate-junction",
   "metadata": {},
   "outputs": [
    {
     "name": "stdout",
     "output_type": "stream",
     "text": [
      "RMSE of original prediction:  41.68135\n",
      "R2 Score of original prediction:  0.9325117107972016\n"
     ]
    }
   ],
   "source": [
    "print(\"RMSE of original prediction: \",r_mse(df_original[\"PRP\"],df_original[\"ERP\"]))\n",
    "print(\"R2 Score of original prediction: \",r2_score(df_original[\"PRP\"],df_original[\"ERP\"]))"
   ]
  },
  {
   "cell_type": "markdown",
   "id": "freelance-guest",
   "metadata": {},
   "source": [
    "### Dropping the ERP column of the dataset"
   ]
  },
  {
   "cell_type": "code",
   "execution_count": 81,
   "id": "indonesian-techno",
   "metadata": {},
   "outputs": [],
   "source": [
    "df_raw.drop([\"ERP\"],axis=1,inplace=True)"
   ]
  },
  {
   "cell_type": "markdown",
   "id": "flush-ireland",
   "metadata": {},
   "source": [
    "## Divinding the data into train and validation set"
   ]
  },
  {
   "cell_type": "code",
   "execution_count": 82,
   "id": "modern-refrigerator",
   "metadata": {},
   "outputs": [
    {
     "data": {
      "text/plain": [
       "<AxesSubplot:>"
      ]
     },
     "execution_count": 82,
     "metadata": {},
     "output_type": "execute_result"
    },
    {
     "data": {
      "image/png": "[encoded data removed]",
      "text/plain": [
       "<Figure size 432x288 with 1 Axes>"
      ]
     },
     "metadata": {
      "needs_background": "light"
     },
     "output_type": "display_data"
    }
   ],
   "source": [
    "df_raw[\"PRP_cat\"]=pd.cut(df_raw[\"PRP\"],\n",
    "                     bins=[0., 20.,100., 200., 300.,400.,500.,600., np.inf],labels=[1, 2, 3, 4, 5,6,7,8])\n",
    "df_raw[\"PRP_cat\"].hist()"
   ]
  },
  {
   "cell_type": "code",
   "execution_count": 83,
   "id": "pressed-modem",
   "metadata": {},
   "outputs": [],
   "source": [
    "from sklearn.model_selection import StratifiedShuffleSplit\n",
    "split = StratifiedShuffleSplit(n_splits=1, test_size=0.1, random_state=42)\n",
    "for train_index, valid_index in split.split(df_raw, df_raw[\"PRP_cat\"]):\n",
    " strat_train_set = df_raw.loc[train_index]\n",
    " strat_valid_set = df_raw.loc[valid_index]"
   ]
  },
  {
   "cell_type": "code",
   "execution_count": 84,
   "id": "public-simulation",
   "metadata": {},
   "outputs": [
    {
     "data": {
      "text/plain": [
       "<AxesSubplot:>"
      ]
     },
     "execution_count": 84,
     "metadata": {},
     "output_type": "execute_result"
    },
    {
     "data": {
      "image/png": "[encoded data removed]",
      "text/plain": [
       "<Figure size 432x288 with 1 Axes>"
      ]
     },
     "metadata": {
      "needs_background": "light"
     },
     "output_type": "display_data"
    }
   ],
   "source": [
    "strat_valid_set[\"PRP_cat\"].hist()"
   ]
  },
  {
   "cell_type": "code",
   "execution_count": 85,
   "id": "better-sixth",
   "metadata": {},
   "outputs": [],
   "source": [
    "splits = (list(train_index),list(valid_index))"
   ]
  },
  {
   "cell_type": "code",
   "execution_count": 86,
   "id": "fixed-sacrifice",
   "metadata": {},
   "outputs": [],
   "source": [
    "df_raw.drop([\"PRP_cat\"],axis=1,inplace=True)"
   ]
  },
  {
   "cell_type": "markdown",
   "id": "exposed-helicopter",
   "metadata": {},
   "source": [
    "### Taking care of categorical value and dividing them into dependent variables and target variable"
   ]
  },
  {
   "cell_type": "code",
   "execution_count": 87,
   "id": "ranking-chinese",
   "metadata": {},
   "outputs": [],
   "source": [
    "dep_var=\"PRP\"\n",
    "procs = [Categorify, FillMissing]\n",
    "cont,cat = cont_cat_split(df_raw, 1, dep_var=dep_var)\n",
    "df=TabularPandas(df_raw, procs, cat, cont, y_names=dep_var,splits=splits)"
   ]
  },
  {
   "cell_type": "code",
   "execution_count": 88,
   "id": "composite-deadline",
   "metadata": {},
   "outputs": [],
   "source": [
    "X_train,y_train = df.train.xs,df.train.y\n",
    "X_valid,y_valid = df.valid.xs,df.valid.y"
   ]
  },
  {
   "cell_type": "markdown",
   "id": "inner-favor",
   "metadata": {},
   "source": [
    "## Building Random Forest with Sklearn"
   ]
  },
  {
   "cell_type": "code",
   "execution_count": 89,
   "id": "chemical-baseline",
   "metadata": {},
   "outputs": [
    {
     "name": "stdout",
     "output_type": "stream",
     "text": [
      "21.153866\n",
      "0.8691921374959266\n",
      "0.9833774661137734\n",
      "ON THE VALIDATION DATA\n",
      "35.248802\n",
      "0.9181798294228551\n"
     ]
    }
   ],
   "source": [
    "from sklearn.ensemble import RandomForestRegressor\n",
    "m=RandomForestRegressor(n_estimators=200,oob_score=True)\n",
    "m.fit(X_train,y_train)\n",
    "print(m_rmse(m,X_train,y_train))\n",
    "print(m.oob_score_)\n",
    "predict=m.predict(X_train)\n",
    "print(r2_score(y_train,predict))\n",
    "print(\"ON THE VALIDATION DATA\")\n",
    "print(m_rmse(m,X_valid,y_valid))\n",
    "print(r2_score(y_valid,m.predict(X_valid)))\n"
   ]
  },
  {
   "cell_type": "markdown",
   "id": "successful-potential",
   "metadata": {},
   "source": [
    "## Using GridSearch to find best HyperParameter"
   ]
  },
  {
   "cell_type": "code",
   "execution_count": 90,
   "id": "continuing-patient",
   "metadata": {},
   "outputs": [],
   "source": [
    "from sklearn.model_selection import GridSearchCV"
   ]
  },
  {
   "cell_type": "code",
   "execution_count": 91,
   "id": "religious-reporter",
   "metadata": {},
   "outputs": [
    {
     "data": {
      "text/plain": [
       "GridSearchCV(estimator=RandomForestRegressor(),\n",
       "             param_grid=[{'max_depth': [None, 10, 8],\n",
       "                          'max_features': [None, 0.5, 2, 4],\n",
       "                          'max_leaf_nodes': [None, 10, 11],\n",
       "                          'n_estimators': [50, 100, 200]}],\n",
       "             return_train_score=True, scoring='neg_root_mean_squared_error')"
      ]
     },
     "execution_count": 91,
     "metadata": {},
     "output_type": "execute_result"
    }
   ],
   "source": [
    "m=RandomForestRegressor()\n",
    "param_grid = [\n",
    " {'n_estimators': [50,100,200], 'max_features': [None,0.5,2, 4],\n",
    "  \"max_leaf_nodes\":[None,10,11],\"max_depth\":[None,10,8]},]\n",
    "grid_search = GridSearchCV(m, param_grid,scoring='neg_root_mean_squared_error',\n",
    "                           return_train_score=True)\n",
    "grid_search.fit(X_train,y_train)"
   ]
  },
  {
   "cell_type": "code",
   "execution_count": 100,
   "id": "racial-label",
   "metadata": {},
   "outputs": [
    {
     "data": {
      "text/plain": [
       "{'max_depth': 10,\n",
       " 'max_features': 4,\n",
       " 'max_leaf_nodes': None,\n",
       " 'n_estimators': 50}"
      ]
     },
     "execution_count": 100,
     "metadata": {},
     "output_type": "execute_result"
    }
   ],
   "source": [
    "grid_search.best_params_"
   ]
  },
  {
   "cell_type": "code",
   "execution_count": 93,
   "id": "biological-grenada",
   "metadata": {},
   "outputs": [],
   "source": [
    "#grid_search.cv_results_"
   ]
  },
  {
   "cell_type": "code",
   "execution_count": 101,
   "id": "interstate-fellow",
   "metadata": {},
   "outputs": [],
   "source": [
    "m=grid_search.best_estimator_"
   ]
  },
  {
   "cell_type": "code",
   "execution_count": 102,
   "id": "oriental-birth",
   "metadata": {},
   "outputs": [
    {
     "data": {
      "text/plain": [
       "RandomForestRegressor(max_depth=10, max_features=4, n_estimators=50)"
      ]
     },
     "execution_count": 102,
     "metadata": {},
     "output_type": "execute_result"
    }
   ],
   "source": [
    "m"
   ]
  },
  {
   "cell_type": "code",
   "execution_count": 103,
   "id": "identical-bankruptcy",
   "metadata": {},
   "outputs": [
    {
     "name": "stdout",
     "output_type": "stream",
     "text": [
      "RMSE of training data 25.44782\n",
      "R2 Score of training data 0.9759442488038268\n",
      "ON THE VALIDATION DATA\n",
      "RMSE of validation data 33.478965\n",
      "R2 Score of validation data 0.9261899164404589\n"
     ]
    }
   ],
   "source": [
    "#m=grid_search.best_params_\n",
    "m.fit(X_train,y_train)\n",
    "print(\"RMSE of training data\",m_rmse(m,X_train,y_train))\n",
    "#print(m.oob_score_)\n",
    "predict=m.predict(X_train)\n",
    "print(\"R2 Score of training data\",r2_score(y_train,predict))\n",
    "print(\"ON THE VALIDATION DATA\")\n",
    "print(\"RMSE of validation data\",m_rmse(m,X_valid,y_valid))\n",
    "print(\"R2 Score of validation data\",r2_score(y_valid,m.predict(X_valid)))"
   ]
  },
  {
   "cell_type": "code",
   "execution_count": 104,
   "id": "taken-hawaiian",
   "metadata": {},
   "outputs": [],
   "source": [
    "from sklearn.metrics import mean_squared_error"
   ]
  },
  {
   "cell_type": "code",
   "execution_count": 105,
   "id": "judicial-implementation",
   "metadata": {},
   "outputs": [],
   "source": [
    "def plot_learning_curves(model, X_train, y_train,X_valid,y_valid):\n",
    " train_errors, val_errors = [], []\n",
    " for m in range(1, len(X_train)):\n",
    "     model.fit(X_train[:m], y_train[:m])\n",
    "     y_train_predict = model.predict(X_train[:m])\n",
    "     y_val_predict = model.predict(X_valid)\n",
    "     train_errors.append(mean_squared_error(y_train[:m], y_train_predict))\n",
    "     val_errors.append(mean_squared_error(y_valid, y_val_predict))\n",
    "     plt.plot(np.sqrt(train_errors), \"r-+\", linewidth=2, label=\"train\")\n",
    "     plt.plot(np.sqrt(val_errors), \"b-\", linewidth=3, label=\"val\")\n",
    "     plt.ylim(0,100)\n"
   ]
  },
  {
   "cell_type": "code",
   "execution_count": 106,
   "id": "yellow-support",
   "metadata": {},
   "outputs": [
    {
     "data": {
      "image/png": "[encoded data removed]",
      "text/plain": [
       "<Figure size 432x288 with 1 Axes>"
      ]
     },
     "metadata": {
      "needs_background": "light"
     },
     "output_type": "display_data"
    }
   ],
   "source": [
    "plot_learning_curves(m,X_train,y_train,X_valid,y_valid)\n",
    "plt.savefig(\"Random Forest learning curve\")"
   ]
  },
  {
   "cell_type": "code",
   "execution_count": null,
   "id": "about-mission",
   "metadata": {},
   "outputs": [],
   "source": [
    "import sklearn\n",
    "sklearn.metrics.SCORERS.keys()"
   ]
  },
  {
   "cell_type": "code",
   "execution_count": 107,
   "id": "discrete-baghdad",
   "metadata": {},
   "outputs": [],
   "source": [
    "def rf_feat_importance(m, df):\n",
    " return pd.DataFrame({'cols':df.columns, 'imp':m.feature_importances_}\n",
    " ).sort_values('imp', ascending=False)"
   ]
  },
  {
   "cell_type": "code",
   "execution_count": 108,
   "id": "differential-blend",
   "metadata": {},
   "outputs": [
    {
     "data": {
      "text/html": [
       "<div>\n",
       "<style scoped>\n",
       "    .dataframe tbody tr th:only-of-type {\n",
       "        vertical-align: middle;\n",
       "    }\n",
       "\n",
       "    .dataframe tbody tr th {\n",
       "        vertical-align: top;\n",
       "    }\n",
       "\n",
       "    .dataframe thead th {\n",
       "        text-align: right;\n",
       "    }\n",
       "</style>\n",
       "<table border=\"1\" class=\"dataframe\">\n",
       "  <thead>\n",
       "    <tr style=\"text-align: right;\">\n",
       "      <th></th>\n",
       "      <th>cols</th>\n",
       "      <th>imp</th>\n",
       "    </tr>\n",
       "  </thead>\n",
       "  <tbody>\n",
       "    <tr>\n",
       "      <th>4</th>\n",
       "      <td>MMAX</td>\n",
       "      <td>0.467747</td>\n",
       "    </tr>\n",
       "    <tr>\n",
       "      <th>5</th>\n",
       "      <td>CACH</td>\n",
       "      <td>0.160235</td>\n",
       "    </tr>\n",
       "    <tr>\n",
       "      <th>6</th>\n",
       "      <td>CHMIN</td>\n",
       "      <td>0.122052</td>\n",
       "    </tr>\n",
       "    <tr>\n",
       "      <th>3</th>\n",
       "      <td>MMIN</td>\n",
       "      <td>0.103861</td>\n",
       "    </tr>\n",
       "    <tr>\n",
       "      <th>7</th>\n",
       "      <td>CHMAX</td>\n",
       "      <td>0.076333</td>\n",
       "    </tr>\n",
       "    <tr>\n",
       "      <th>2</th>\n",
       "      <td>MYCT</td>\n",
       "      <td>0.043170</td>\n",
       "    </tr>\n",
       "    <tr>\n",
       "      <th>1</th>\n",
       "      <td>Model Name</td>\n",
       "      <td>0.020745</td>\n",
       "    </tr>\n",
       "    <tr>\n",
       "      <th>0</th>\n",
       "      <td>vendor name</td>\n",
       "      <td>0.005857</td>\n",
       "    </tr>\n",
       "  </tbody>\n",
       "</table>\n",
       "</div>"
      ],
      "text/plain": [
       "          cols       imp\n",
       "4         MMAX  0.467747\n",
       "5         CACH  0.160235\n",
       "6        CHMIN  0.122052\n",
       "3         MMIN  0.103861\n",
       "7        CHMAX  0.076333\n",
       "2         MYCT  0.043170\n",
       "1   Model Name  0.020745\n",
       "0  vendor name  0.005857"
      ]
     },
     "execution_count": 108,
     "metadata": {},
     "output_type": "execute_result"
    }
   ],
   "source": [
    "fi = rf_feat_importance(m, X_train)\n",
    "fi[:10]"
   ]
  },
  {
   "cell_type": "code",
   "execution_count": 109,
   "id": "creative-electric",
   "metadata": {},
   "outputs": [],
   "source": [
    "def plot_fi(fi):\n",
    "    return fi.plot('cols','imp','barh',figsize=(12,7),legend=False)"
   ]
  },
  {
   "cell_type": "code",
   "execution_count": 110,
   "id": "precise-herald",
   "metadata": {},
   "outputs": [
    {
     "data": {
      "text/plain": [
       "<AxesSubplot:ylabel='cols'>"
      ]
     },
     "execution_count": 110,
     "metadata": {},
     "output_type": "execute_result"
    },
    {
     "data": {
      "image/png": "[encoded data removed]",
      "text/plain": [
       "<Figure size 864x504 with 1 Axes>"
      ]
     },
     "metadata": {
      "needs_background": "light"
     },
     "output_type": "display_data"
    }
   ],
   "source": [
    "plot_fi(fi)"
   ]
  },
  {
   "cell_type": "code",
   "execution_count": 111,
   "id": "incoming-cherry",
   "metadata": {},
   "outputs": [],
   "source": [
    "from scipy.cluster import hierarchy as hc\n",
    "\n",
    "def cluster_columns(df, figsize=(10,6), font_size=12):\n",
    "    corr = np.round(scipy.stats.spearmanr(df).correlation, 4)\n",
    "    corr_condensed = hc.distance.squareform(1-corr)\n",
    "    z = hc.linkage(corr_condensed, method='average')\n",
    "    fig = plt.figure(figsize=figsize)\n",
    "    hc.dendrogram(z, labels=df.columns, orientation='left', leaf_font_size=font_size)\n",
    "    plt.savefig(\"Dendograph of collierity1\")\n",
    "    plt.show()"
   ]
  },
  {
   "cell_type": "code",
   "execution_count": 112,
   "id": "similar-upset",
   "metadata": {
    "scrolled": true
   },
   "outputs": [
    {
     "data": {
      "image/png": "[encoded data removed]",
      "text/plain": [
       "<Figure size 720x432 with 1 Axes>"
      ]
     },
     "metadata": {
      "needs_background": "light"
     },
     "output_type": "display_data"
    }
   ],
   "source": [
    "cluster_columns(X_train)"
   ]
  },
  {
   "cell_type": "code",
   "execution_count": 113,
   "id": "occasional-rebate",
   "metadata": {},
   "outputs": [],
   "source": [
    "corr_matrix = X_train.corr()"
   ]
  },
  {
   "cell_type": "code",
   "execution_count": 114,
   "id": "german-november",
   "metadata": {},
   "outputs": [
    {
     "data": {
      "text/html": [
       "<div>\n",
       "<style scoped>\n",
       "    .dataframe tbody tr th:only-of-type {\n",
       "        vertical-align: middle;\n",
       "    }\n",
       "\n",
       "    .dataframe tbody tr th {\n",
       "        vertical-align: top;\n",
       "    }\n",
       "\n",
       "    .dataframe thead th {\n",
       "        text-align: right;\n",
       "    }\n",
       "</style>\n",
       "<table border=\"1\" class=\"dataframe\">\n",
       "  <thead>\n",
       "    <tr style=\"text-align: right;\">\n",
       "      <th></th>\n",
       "      <th>vendor name</th>\n",
       "      <th>Model Name</th>\n",
       "      <th>MYCT</th>\n",
       "      <th>MMIN</th>\n",
       "      <th>MMAX</th>\n",
       "      <th>CACH</th>\n",
       "      <th>CHMIN</th>\n",
       "      <th>CHMAX</th>\n",
       "    </tr>\n",
       "  </thead>\n",
       "  <tbody>\n",
       "    <tr>\n",
       "      <th>vendor name</th>\n",
       "      <td>1.000000</td>\n",
       "      <td>-0.110366</td>\n",
       "      <td>-0.088209</td>\n",
       "      <td>-0.056686</td>\n",
       "      <td>0.027265</td>\n",
       "      <td>0.013022</td>\n",
       "      <td>0.058799</td>\n",
       "      <td>0.000637</td>\n",
       "    </tr>\n",
       "    <tr>\n",
       "      <th>Model Name</th>\n",
       "      <td>-0.110366</td>\n",
       "      <td>1.000000</td>\n",
       "      <td>0.070300</td>\n",
       "      <td>-0.129939</td>\n",
       "      <td>-0.199887</td>\n",
       "      <td>-0.047911</td>\n",
       "      <td>-0.231665</td>\n",
       "      <td>-0.161569</td>\n",
       "    </tr>\n",
       "    <tr>\n",
       "      <th>MYCT</th>\n",
       "      <td>-0.088209</td>\n",
       "      <td>0.070300</td>\n",
       "      <td>1.000000</td>\n",
       "      <td>-0.345468</td>\n",
       "      <td>-0.373767</td>\n",
       "      <td>-0.321879</td>\n",
       "      <td>-0.300483</td>\n",
       "      <td>-0.253041</td>\n",
       "    </tr>\n",
       "    <tr>\n",
       "      <th>MMIN</th>\n",
       "      <td>-0.056686</td>\n",
       "      <td>-0.129939</td>\n",
       "      <td>-0.345468</td>\n",
       "      <td>1.000000</td>\n",
       "      <td>0.750557</td>\n",
       "      <td>0.529260</td>\n",
       "      <td>0.501154</td>\n",
       "      <td>0.265147</td>\n",
       "    </tr>\n",
       "    <tr>\n",
       "      <th>MMAX</th>\n",
       "      <td>0.027265</td>\n",
       "      <td>-0.199887</td>\n",
       "      <td>-0.373767</td>\n",
       "      <td>0.750557</td>\n",
       "      <td>1.000000</td>\n",
       "      <td>0.522083</td>\n",
       "      <td>0.550775</td>\n",
       "      <td>0.544452</td>\n",
       "    </tr>\n",
       "    <tr>\n",
       "      <th>CACH</th>\n",
       "      <td>0.013022</td>\n",
       "      <td>-0.047911</td>\n",
       "      <td>-0.321879</td>\n",
       "      <td>0.529260</td>\n",
       "      <td>0.522083</td>\n",
       "      <td>1.000000</td>\n",
       "      <td>0.575333</td>\n",
       "      <td>0.496217</td>\n",
       "    </tr>\n",
       "    <tr>\n",
       "      <th>CHMIN</th>\n",
       "      <td>0.058799</td>\n",
       "      <td>-0.231665</td>\n",
       "      <td>-0.300483</td>\n",
       "      <td>0.501154</td>\n",
       "      <td>0.550775</td>\n",
       "      <td>0.575333</td>\n",
       "      <td>1.000000</td>\n",
       "      <td>0.552911</td>\n",
       "    </tr>\n",
       "    <tr>\n",
       "      <th>CHMAX</th>\n",
       "      <td>0.000637</td>\n",
       "      <td>-0.161569</td>\n",
       "      <td>-0.253041</td>\n",
       "      <td>0.265147</td>\n",
       "      <td>0.544452</td>\n",
       "      <td>0.496217</td>\n",
       "      <td>0.552911</td>\n",
       "      <td>1.000000</td>\n",
       "    </tr>\n",
       "  </tbody>\n",
       "</table>\n",
       "</div>"
      ],
      "text/plain": [
       "             vendor name  Model Name      MYCT      MMIN      MMAX      CACH  \\\n",
       "vendor name     1.000000   -0.110366 -0.088209 -0.056686  0.027265  0.013022   \n",
       "Model Name     -0.110366    1.000000  0.070300 -0.129939 -0.199887 -0.047911   \n",
       "MYCT           -0.088209    0.070300  1.000000 -0.345468 -0.373767 -0.321879   \n",
       "MMIN           -0.056686   -0.129939 -0.345468  1.000000  0.750557  0.529260   \n",
       "MMAX            0.027265   -0.199887 -0.373767  0.750557  1.000000  0.522083   \n",
       "CACH            0.013022   -0.047911 -0.321879  0.529260  0.522083  1.000000   \n",
       "CHMIN           0.058799   -0.231665 -0.300483  0.501154  0.550775  0.575333   \n",
       "CHMAX           0.000637   -0.161569 -0.253041  0.265147  0.544452  0.496217   \n",
       "\n",
       "                CHMIN     CHMAX  \n",
       "vendor name  0.058799  0.000637  \n",
       "Model Name  -0.231665 -0.161569  \n",
       "MYCT        -0.300483 -0.253041  \n",
       "MMIN         0.501154  0.265147  \n",
       "MMAX         0.550775  0.544452  \n",
       "CACH         0.575333  0.496217  \n",
       "CHMIN        1.000000  0.552911  \n",
       "CHMAX        0.552911  1.000000  "
      ]
     },
     "execution_count": 114,
     "metadata": {},
     "output_type": "execute_result"
    }
   ],
   "source": [
    "corr_matrix"
   ]
  },
  {
   "cell_type": "code",
   "execution_count": null,
   "id": "chronic-administrator",
   "metadata": {},
   "outputs": [],
   "source": []
  },
  {
   "cell_type": "code",
   "execution_count": 115,
   "id": "ordinary-image",
   "metadata": {},
   "outputs": [],
   "source": [
    "def get_oob(df):\n",
    "    m1=RandomForestRegressor(max_depth=10, max_features=4, n_estimators=50,oob_score=True)    \n",
    "    m1.fit(df, y_train)\n",
    "    return m1.oob_score_\n"
   ]
  },
  {
   "cell_type": "code",
   "execution_count": 116,
   "id": "pediatric-formula",
   "metadata": {},
   "outputs": [
    {
     "data": {
      "text/plain": [
       "0.8572460976923185"
      ]
     },
     "execution_count": 116,
     "metadata": {},
     "output_type": "execute_result"
    }
   ],
   "source": [
    "get_oob(X_train)"
   ]
  },
  {
   "cell_type": "code",
   "execution_count": 117,
   "id": "supported-premiere",
   "metadata": {},
   "outputs": [
    {
     "data": {
      "text/plain": [
       "{'MMIN': 0.8880335992921655,\n",
       " 'MMAX': 0.8370930704007347,\n",
       " 'CHMIN': 0.8524091526606918,\n",
       " 'CHMAX': 0.8421736319623147}"
      ]
     },
     "execution_count": 117,
     "metadata": {},
     "output_type": "execute_result"
    }
   ],
   "source": [
    "{c:get_oob(X_train.drop(c, axis=1)) for c in ('MMIN', 'MMAX','CHMIN','CHMAX')}"
   ]
  },
  {
   "cell_type": "code",
   "execution_count": 118,
   "id": "occupied-relative",
   "metadata": {},
   "outputs": [
    {
     "data": {
      "text/plain": [
       "0.8766197470648261"
      ]
     },
     "execution_count": 118,
     "metadata": {},
     "output_type": "execute_result"
    }
   ],
   "source": [
    "to_drop = ['MMIN','CHMAX']\n",
    "get_oob(X_train.drop(to_drop, axis=1))"
   ]
  },
  {
   "cell_type": "code",
   "execution_count": 119,
   "id": "adaptive-indie",
   "metadata": {},
   "outputs": [],
   "source": [
    "X_train_final = X_train.drop(to_drop, axis=1)\n",
    "X_valid_final = X_valid.drop(to_drop, axis=1)"
   ]
  },
  {
   "cell_type": "code",
   "execution_count": 120,
   "id": "exotic-thailand",
   "metadata": {},
   "outputs": [
    {
     "name": "stdout",
     "output_type": "stream",
     "text": [
      "21.634537\n",
      "0.9826134690391721\n",
      "ON THE VALIDATION DATA\n",
      "38.075681\n",
      "0.9045299828123381\n"
     ]
    }
   ],
   "source": [
    "#m=RandomForestRegressor(n_estimators=300,oob_score=True)\n",
    "m.fit(X_train_final,y_train)\n",
    "print(m_rmse(m,X_train_final,y_train))\n",
    "#print(m.oob_score_)\n",
    "predict=m.predict(X_train_final)\n",
    "print(r2_score(y_train,predict))\n",
    "print(\"ON THE VALIDATION DATA\")\n",
    "print(m_rmse(m,X_valid_final,y_valid))\n",
    "print(r2_score(y_valid,m.predict(X_valid_final)))                      "
   ]
  },
  {
   "cell_type": "code",
   "execution_count": null,
   "id": "quiet-ideal",
   "metadata": {},
   "outputs": [],
   "source": [
    "plot_learning_curves(m,X_train,y_train,X_valid,y_valid)\n",
    "plt.savefig(\"Random Forest learning curve\")"
   ]
  },
  {
   "cell_type": "code",
   "execution_count": 121,
   "id": "federal-custom",
   "metadata": {},
   "outputs": [
    {
     "data": {
      "text/plain": [
       "GridSearchCV(estimator=RandomForestRegressor(),\n",
       "             param_grid=[{'max_depth': [None, 10, 12, 15],\n",
       "                          'max_features': [None, 0.5, 2, 4],\n",
       "                          'max_leaf_nodes': [None, 10, 11],\n",
       "                          'n_estimators': [50, 100, 200, 300]}],\n",
       "             return_train_score=True, scoring='neg_root_mean_squared_error')"
      ]
     },
     "execution_count": 121,
     "metadata": {},
     "output_type": "execute_result"
    }
   ],
   "source": [
    "m1=RandomForestRegressor()\n",
    "param_grid = [\n",
    " {'n_estimators': [50,100,200,300], 'max_features': [None,0.5,2, 4],\n",
    "  \"max_leaf_nodes\":[None,10,11],\"max_depth\":[None,10,12,15]},]\n",
    "grid_search = GridSearchCV(m1, param_grid,scoring='neg_root_mean_squared_error',\n",
    "                           return_train_score=True)\n",
    "grid_search.fit(X_train_final,y_train)"
   ]
  },
  {
   "cell_type": "code",
   "execution_count": 122,
   "id": "interior-battle",
   "metadata": {},
   "outputs": [
    {
     "data": {
      "text/plain": [
       "{'max_depth': 10,\n",
       " 'max_features': 0.5,\n",
       " 'max_leaf_nodes': None,\n",
       " 'n_estimators': 200}"
      ]
     },
     "execution_count": 122,
     "metadata": {},
     "output_type": "execute_result"
    }
   ],
   "source": [
    "grid_search.best_params_"
   ]
  },
  {
   "cell_type": "code",
   "execution_count": 123,
   "id": "objective-thesis",
   "metadata": {},
   "outputs": [],
   "source": [
    "m1=grid_search.best_estimator_"
   ]
  },
  {
   "cell_type": "code",
   "execution_count": 124,
   "id": "selective-classic",
   "metadata": {},
   "outputs": [
    {
     "name": "stdout",
     "output_type": "stream",
     "text": [
      "21.555709\n",
      "0.982739936942699\n",
      "ON THE VALIDATION DATA\n",
      "37.10718\n",
      "0.9093250046983375\n"
     ]
    }
   ],
   "source": [
    "#m=RandomForestRegressor(n_estimators=300,oob_score=True)\n",
    "m1.fit(X_train_final,y_train)\n",
    "print(m_rmse(m1,X_train_final,y_train))\n",
    "#print(m.oob_score_)\n",
    "predict=m1.predict(X_train_final)\n",
    "print(r2_score(y_train,predict))\n",
    "print(\"ON THE VALIDATION DATA\")\n",
    "print(m_rmse(m1,X_valid_final,y_valid))\n",
    "print(r2_score(y_valid,m1.predict(X_valid_final)))\n"
   ]
  },
  {
   "cell_type": "code",
   "execution_count": null,
   "id": "center-ceramic",
   "metadata": {},
   "outputs": [],
   "source": []
  },
  {
   "cell_type": "code",
   "execution_count": 125,
   "id": "united-steering",
   "metadata": {},
   "outputs": [],
   "source": [
    "dep_var=\"PRP\"\n",
    "procs = [Categorify, FillMissing]\n",
    "cont,cat = cont_cat_split(df_raw, 1, dep_var=dep_var)\n",
    "df_full=TabularPandas(df_raw, procs, cat, cont, y_names=dep_var)"
   ]
  },
  {
   "cell_type": "code",
   "execution_count": 126,
   "id": "republican-encounter",
   "metadata": {},
   "outputs": [
    {
     "data": {
      "text/plain": [
       "((209, 8), (209,))"
      ]
     },
     "execution_count": 126,
     "metadata": {},
     "output_type": "execute_result"
    }
   ],
   "source": [
    "df_full.train.xs.shape,df_full.train.y.shape"
   ]
  },
  {
   "cell_type": "code",
   "execution_count": 127,
   "id": "billion-bishop",
   "metadata": {},
   "outputs": [],
   "source": [
    "X_train,y_train=df_full.train.xs,df_full.train.y\n",
    "X_train = X_train.drop(to_drop, axis=1)"
   ]
  },
  {
   "cell_type": "markdown",
   "id": "affiliated-jaguar",
   "metadata": {},
   "source": [
    "## Making Random Forest model imported from sklearn"
   ]
  },
  {
   "cell_type": "code",
   "execution_count": 128,
   "id": "fewer-above",
   "metadata": {},
   "outputs": [
    {
     "name": "stdout",
     "output_type": "stream",
     "text": [
      "22.120469\n",
      "0.980992126658771\n"
     ]
    }
   ],
   "source": [
    "from sklearn.ensemble import RandomForestRegressor\n",
    "#m=RandomForestRegressor(n_estimators=300,oob_score=True)\n",
    "m1.fit(X_train,y_train)\n",
    "print(m_rmse(m1,X_train,y_train))\n",
    "predict=m1.predict(X_train)\n",
    "print(r2_score(y_train,predict))"
   ]
  },
  {
   "cell_type": "code",
   "execution_count": null,
   "id": "bibliographic-gregory",
   "metadata": {},
   "outputs": [],
   "source": []
  },
  {
   "cell_type": "markdown",
   "id": "radio-crystal",
   "metadata": {},
   "source": [
    "## Import tree Interpretor and Waterfall library"
   ]
  },
  {
   "cell_type": "code",
   "execution_count": 129,
   "id": "outstanding-substance",
   "metadata": {},
   "outputs": [
    {
     "name": "stdout",
     "output_type": "stream",
     "text": [
      "Requirement already satisfied: treeinterpreter in c:\\users\\1042g\\appdata\\local\\programs\\python\\python38\\lib\\site-packages (0.2.3)\n",
      "Requirement already satisfied: waterfallcharts in c:\\users\\1042g\\appdata\\local\\programs\\python\\python38\\lib\\site-packages (3.8)\n"
     ]
    }
   ],
   "source": [
    "!pip install treeinterpreter\n",
    "!pip install waterfallcharts\n",
    "import treeinterpreter\n",
    "import waterfall_chart"
   ]
  },
  {
   "cell_type": "code",
   "execution_count": 130,
   "id": "informative-front",
   "metadata": {},
   "outputs": [],
   "source": [
    "row = X_valid_final.iloc[:5]"
   ]
  },
  {
   "cell_type": "code",
   "execution_count": 131,
   "id": "located-harmony",
   "metadata": {},
   "outputs": [],
   "source": [
    "from treeinterpreter import treeinterpreter as ti"
   ]
  },
  {
   "cell_type": "code",
   "execution_count": 136,
   "id": "distinguished-telling",
   "metadata": {},
   "outputs": [],
   "source": [
    "prediction, bias, contributions = ti.predict(m, row.values)"
   ]
  },
  {
   "cell_type": "code",
   "execution_count": 138,
   "id": "intelligent-chambers",
   "metadata": {},
   "outputs": [
    {
     "data": {
      "image/png": "[encoded data removed]",
      "text/plain": [
       "<Figure size 432x288 with 1 Axes>"
      ]
     },
     "metadata": {
      "needs_background": "light"
     },
     "output_type": "display_data"
    }
   ],
   "source": [
    "waterfall_chart.plot(X_valid_final.columns, contributions[0], threshold=0.08,\n",
    " rotation_value=45,formatting='{:,.3f}');\n",
    "plt.savefig(\"waterfall chart\")"
   ]
  },
  {
   "cell_type": "code",
   "execution_count": null,
   "id": "motivated-standard",
   "metadata": {},
   "outputs": [],
   "source": []
  },
  {
   "cell_type": "code",
   "execution_count": null,
   "id": "reasonable-pearl",
   "metadata": {},
   "outputs": [],
   "source": []
  }
 ],
 "metadata": {
  "kernelspec": {
   "display_name": "Python 3",
   "language": "python",
   "name": "python3"
  },
  "language_info": {
   "codemirror_mode": {
    "name": "ipython",
    "version": 3
   },
   "file_extension": ".py",
   "mimetype": "text/x-python",
   "name": "python",
   "nbconvert_exporter": "python",
   "pygments_lexer": "ipython3",
   "version": "3.8.2"
  }
 },
 "nbformat": 4,
 "nbformat_minor": 5
}
